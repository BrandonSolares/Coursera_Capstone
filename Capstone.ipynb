{
    "cells": [
        {
            "cell_type": "markdown",
            "metadata": {},
            "source": "This notebook will mainly be used for the IBM Coursera Capstone Project"
        },
        {
            "cell_type": "code",
            "execution_count": 1,
            "metadata": {},
            "outputs": [],
            "source": "import pandas as pd\nimport numpy as np"
        },
        {
            "cell_type": "code",
            "execution_count": 2,
            "metadata": {},
            "outputs": [
                {
                    "name": "stdout",
                    "output_type": "stream",
                    "text": "Hello Capstone Project Course!\n"
                }
            ],
            "source": "print('Hello Capstone Project Course!')"
        },
        {
            "cell_type": "code",
            "execution_count": 3,
            "metadata": {},
            "outputs": [
                {
                    "name": "stderr",
                    "output_type": "stream",
                    "text": "/opt/conda/envs/Python36/lib/python3.6/site-packages/IPython/core/interactiveshell.py:3020: DtypeWarning: Columns (33) have mixed types. Specify dtype option on import or set low_memory=False.\n  interactivity=interactivity, compiler=compiler, result=result)\n"
                },
                {
                    "data": {
                        "text/html": "<div>\n<style scoped>\n    .dataframe tbody tr th:only-of-type {\n        vertical-align: middle;\n    }\n\n    .dataframe tbody tr th {\n        vertical-align: top;\n    }\n\n    .dataframe thead th {\n        text-align: right;\n    }\n</style>\n<table border=\"1\" class=\"dataframe\">\n  <thead>\n    <tr style=\"text-align: right;\">\n      <th></th>\n      <th>SEVERITYCODE</th>\n      <th>X</th>\n      <th>Y</th>\n      <th>OBJECTID</th>\n      <th>INCKEY</th>\n      <th>COLDETKEY</th>\n      <th>REPORTNO</th>\n      <th>STATUS</th>\n      <th>ADDRTYPE</th>\n      <th>INTKEY</th>\n      <th>...</th>\n      <th>ROADCOND</th>\n      <th>LIGHTCOND</th>\n      <th>PEDROWNOTGRNT</th>\n      <th>SDOTCOLNUM</th>\n      <th>SPEEDING</th>\n      <th>ST_COLCODE</th>\n      <th>ST_COLDESC</th>\n      <th>SEGLANEKEY</th>\n      <th>CROSSWALKKEY</th>\n      <th>HITPARKEDCAR</th>\n    </tr>\n  </thead>\n  <tbody>\n    <tr>\n      <th>0</th>\n      <td>2</td>\n      <td>-122.323148</td>\n      <td>47.703140</td>\n      <td>1</td>\n      <td>1307</td>\n      <td>1307</td>\n      <td>3502005</td>\n      <td>Matched</td>\n      <td>Intersection</td>\n      <td>37475.0</td>\n      <td>...</td>\n      <td>Wet</td>\n      <td>Daylight</td>\n      <td>NaN</td>\n      <td>NaN</td>\n      <td>NaN</td>\n      <td>10</td>\n      <td>Entering at angle</td>\n      <td>0</td>\n      <td>0</td>\n      <td>N</td>\n    </tr>\n    <tr>\n      <th>1</th>\n      <td>1</td>\n      <td>-122.347294</td>\n      <td>47.647172</td>\n      <td>2</td>\n      <td>52200</td>\n      <td>52200</td>\n      <td>2607959</td>\n      <td>Matched</td>\n      <td>Block</td>\n      <td>NaN</td>\n      <td>...</td>\n      <td>Wet</td>\n      <td>Dark - Street Lights On</td>\n      <td>NaN</td>\n      <td>6354039.0</td>\n      <td>NaN</td>\n      <td>11</td>\n      <td>From same direction - both going straight - bo...</td>\n      <td>0</td>\n      <td>0</td>\n      <td>N</td>\n    </tr>\n    <tr>\n      <th>2</th>\n      <td>1</td>\n      <td>-122.334540</td>\n      <td>47.607871</td>\n      <td>3</td>\n      <td>26700</td>\n      <td>26700</td>\n      <td>1482393</td>\n      <td>Matched</td>\n      <td>Block</td>\n      <td>NaN</td>\n      <td>...</td>\n      <td>Dry</td>\n      <td>Daylight</td>\n      <td>NaN</td>\n      <td>4323031.0</td>\n      <td>NaN</td>\n      <td>32</td>\n      <td>One parked--one moving</td>\n      <td>0</td>\n      <td>0</td>\n      <td>N</td>\n    </tr>\n    <tr>\n      <th>3</th>\n      <td>1</td>\n      <td>-122.334803</td>\n      <td>47.604803</td>\n      <td>4</td>\n      <td>1144</td>\n      <td>1144</td>\n      <td>3503937</td>\n      <td>Matched</td>\n      <td>Block</td>\n      <td>NaN</td>\n      <td>...</td>\n      <td>Dry</td>\n      <td>Daylight</td>\n      <td>NaN</td>\n      <td>NaN</td>\n      <td>NaN</td>\n      <td>23</td>\n      <td>From same direction - all others</td>\n      <td>0</td>\n      <td>0</td>\n      <td>N</td>\n    </tr>\n    <tr>\n      <th>4</th>\n      <td>2</td>\n      <td>-122.306426</td>\n      <td>47.545739</td>\n      <td>5</td>\n      <td>17700</td>\n      <td>17700</td>\n      <td>1807429</td>\n      <td>Matched</td>\n      <td>Intersection</td>\n      <td>34387.0</td>\n      <td>...</td>\n      <td>Wet</td>\n      <td>Daylight</td>\n      <td>NaN</td>\n      <td>4028032.0</td>\n      <td>NaN</td>\n      <td>10</td>\n      <td>Entering at angle</td>\n      <td>0</td>\n      <td>0</td>\n      <td>N</td>\n    </tr>\n  </tbody>\n</table>\n<p>5 rows \u00d7 38 columns</p>\n</div>",
                        "text/plain": "   SEVERITYCODE           X          Y  OBJECTID  INCKEY  COLDETKEY REPORTNO  \\\n0             2 -122.323148  47.703140         1    1307       1307  3502005   \n1             1 -122.347294  47.647172         2   52200      52200  2607959   \n2             1 -122.334540  47.607871         3   26700      26700  1482393   \n3             1 -122.334803  47.604803         4    1144       1144  3503937   \n4             2 -122.306426  47.545739         5   17700      17700  1807429   \n\n    STATUS      ADDRTYPE   INTKEY  ... ROADCOND                LIGHTCOND  \\\n0  Matched  Intersection  37475.0  ...      Wet                 Daylight   \n1  Matched         Block      NaN  ...      Wet  Dark - Street Lights On   \n2  Matched         Block      NaN  ...      Dry                 Daylight   \n3  Matched         Block      NaN  ...      Dry                 Daylight   \n4  Matched  Intersection  34387.0  ...      Wet                 Daylight   \n\n  PEDROWNOTGRNT  SDOTCOLNUM SPEEDING ST_COLCODE  \\\n0           NaN         NaN      NaN         10   \n1           NaN   6354039.0      NaN         11   \n2           NaN   4323031.0      NaN         32   \n3           NaN         NaN      NaN         23   \n4           NaN   4028032.0      NaN         10   \n\n                                          ST_COLDESC  SEGLANEKEY  \\\n0                                  Entering at angle           0   \n1  From same direction - both going straight - bo...           0   \n2                             One parked--one moving           0   \n3                   From same direction - all others           0   \n4                                  Entering at angle           0   \n\n   CROSSWALKKEY  HITPARKEDCAR  \n0             0             N  \n1             0             N  \n2             0             N  \n3             0             N  \n4             0             N  \n\n[5 rows x 38 columns]"
                    },
                    "execution_count": 3,
                    "metadata": {},
                    "output_type": "execute_result"
                }
            ],
            "source": "# The code was removed by Watson Studio for sharing."
        },
        {
            "cell_type": "markdown",
            "metadata": {},
            "source": "# Business Understanding: \nUsing Machine learning techniques, we can predict a severe accident event by creating a model that factors in data from past accidents. In this model, we are given uncontrollable accident factors and the result of the model will be the severity of the accident based on the different values of the factors. The main stakeholders in this project are emergency first responders and the police force since they would benefit by being able to efficiently assign a certain number of personnel at a time when there may be a large number of severe accidents. Also, they can warn drivers of a high probability of a severe accident in attempt to avoid them. Another large stakeholder would be insurance companies because they would be able to predict severe accident events in the future and use this data to manipulate insurance rates.   "
        },
        {
            "cell_type": "markdown",
            "metadata": {},
            "source": "# Data:\nThe data used in this model is from collisions provided by SPD and recorded by Traffic Records in Seattle from 2004 to present. The data contains past accidents and codes each accident from 0 to 3 based on the severity of the injury. After inspecting the contents in the SEVERITYCODE column, it is apparent that there are only severity codes 1 and 2 present in the data. In order to focus on the main factors that contribute to severe accidents, we can narrow down the columns to only vital information that we can then manipulate. Using the value_counts function, we can see that there are significantly more code 1 accident severities compared to level 2 severities. After sweeping the data from null values, we can balance the data and then analyze it. The independent variables in this model are the weather, road conditions, and the light conditions. The dependend variable is the severity code (1 or 2). The end result should predict a high probability of a code 2 severity based on the 3 conditions given in the model."
        },
        {
            "cell_type": "markdown",
            "metadata": {},
            "source": "# Preprocessing:"
        },
        {
            "cell_type": "code",
            "execution_count": 4,
            "metadata": {
                "scrolled": false
            },
            "outputs": [
                {
                    "data": {
                        "text/html": "<div>\n<style scoped>\n    .dataframe tbody tr th:only-of-type {\n        vertical-align: middle;\n    }\n\n    .dataframe tbody tr th {\n        vertical-align: top;\n    }\n\n    .dataframe thead th {\n        text-align: right;\n    }\n</style>\n<table border=\"1\" class=\"dataframe\">\n  <thead>\n    <tr style=\"text-align: right;\">\n      <th></th>\n      <th>SEVERITYCODE</th>\n      <th>OBJECTID</th>\n      <th>LOCATION</th>\n      <th>SEVERITYCODE.1</th>\n      <th>WEATHER</th>\n      <th>ROADCOND</th>\n      <th>LIGHTCOND</th>\n    </tr>\n  </thead>\n  <tbody>\n    <tr>\n      <th>0</th>\n      <td>2</td>\n      <td>1</td>\n      <td>5TH AVE NE AND NE 103RD ST</td>\n      <td>2</td>\n      <td>Overcast</td>\n      <td>Wet</td>\n      <td>Daylight</td>\n    </tr>\n    <tr>\n      <th>1</th>\n      <td>1</td>\n      <td>2</td>\n      <td>AURORA BR BETWEEN RAYE ST AND BRIDGE WAY N</td>\n      <td>1</td>\n      <td>Raining</td>\n      <td>Wet</td>\n      <td>Dark - Street Lights On</td>\n    </tr>\n    <tr>\n      <th>2</th>\n      <td>1</td>\n      <td>3</td>\n      <td>4TH AVE BETWEEN SENECA ST AND UNIVERSITY ST</td>\n      <td>1</td>\n      <td>Overcast</td>\n      <td>Dry</td>\n      <td>Daylight</td>\n    </tr>\n    <tr>\n      <th>3</th>\n      <td>1</td>\n      <td>4</td>\n      <td>2ND AVE BETWEEN MARION ST AND MADISON ST</td>\n      <td>1</td>\n      <td>Clear</td>\n      <td>Dry</td>\n      <td>Daylight</td>\n    </tr>\n    <tr>\n      <th>4</th>\n      <td>2</td>\n      <td>5</td>\n      <td>SWIFT AVE S AND SWIFT AV OFF RP</td>\n      <td>2</td>\n      <td>Raining</td>\n      <td>Wet</td>\n      <td>Daylight</td>\n    </tr>\n  </tbody>\n</table>\n</div>",
                        "text/plain": "   SEVERITYCODE  OBJECTID                                     LOCATION  \\\n0             2         1                   5TH AVE NE AND NE 103RD ST   \n1             1         2   AURORA BR BETWEEN RAYE ST AND BRIDGE WAY N   \n2             1         3  4TH AVE BETWEEN SENECA ST AND UNIVERSITY ST   \n3             1         4     2ND AVE BETWEEN MARION ST AND MADISON ST   \n4             2         5              SWIFT AVE S AND SWIFT AV OFF RP   \n\n   SEVERITYCODE.1   WEATHER ROADCOND                LIGHTCOND  \n0               2  Overcast      Wet                 Daylight  \n1               1   Raining      Wet  Dark - Street Lights On  \n2               1  Overcast      Dry                 Daylight  \n3               1     Clear      Dry                 Daylight  \n4               2   Raining      Wet                 Daylight  "
                    },
                    "execution_count": 4,
                    "metadata": {},
                    "output_type": "execute_result"
                }
            ],
            "source": "df1.drop([\"X\",\"Y\",\"INCKEY\",\"COLDETKEY\",\"INTKEY\",\"EXCEPTRSNCODE\",\"EXCEPTRSNDESC\",\"SEVERITYDESC\",\"PERSONCOUNT\",\"PEDCOUNT\",\"PEDCYLCOUNT\",\"INCDATE\",\"INCDTTM\",\"JUNCTIONTYPE\",\"SDOT_COLCODE\",\"SDOT_COLDESC\",\"INATTENTIONIND\",\"UNDERINFL\",\"ST_COLCODE\",\"ST_COLDESC\",\"SEGLANEKEY\",\"CROSSWALKKEY\",\"REPORTNO\",\"STATUS\",\"ADDRTYPE\",\"COLLISIONTYPE\",\"VEHCOUNT\",\"PEDROWNOTGRNT\",\"SDOTCOLNUM\",\"SPEEDING\",\"HITPARKEDCAR\"], axis=1, inplace=True)\ndf1.head()"
        },
        {
            "cell_type": "code",
            "execution_count": 7,
            "metadata": {},
            "outputs": [
                {
                    "data": {
                        "text/plain": "1    136485\n2     58188\nName: SEVERITYCODE, dtype: int64"
                    },
                    "execution_count": 7,
                    "metadata": {},
                    "output_type": "execute_result"
                }
            ],
            "source": "df1['SEVERITYCODE'].value_counts()"
        },
        {
            "cell_type": "code",
            "execution_count": 8,
            "metadata": {},
            "outputs": [
                {
                    "data": {
                        "text/plain": "Daylight                    116137\nDark - Street Lights On      48507\nUnknown                      13473\nDusk                          5902\nDawn                          2502\nDark - No Street Lights       1537\nDark - Street Lights Off      1199\nOther                          235\nDark - Unknown Lighting         11\nName: LIGHTCOND, dtype: int64"
                    },
                    "execution_count": 8,
                    "metadata": {},
                    "output_type": "execute_result"
                }
            ],
            "source": "df1['LIGHTCOND'].value_counts()"
        },
        {
            "cell_type": "code",
            "execution_count": 9,
            "metadata": {},
            "outputs": [
                {
                    "data": {
                        "text/plain": "Dry               124510\nWet                47474\nUnknown            15078\nIce                 1209\nSnow/Slush          1004\nOther                132\nStanding Water       115\nSand/Mud/Dirt         75\nOil                   64\nName: ROADCOND, dtype: int64"
                    },
                    "execution_count": 9,
                    "metadata": {},
                    "output_type": "execute_result"
                }
            ],
            "source": "df1['ROADCOND'].value_counts()"
        },
        {
            "cell_type": "code",
            "execution_count": 10,
            "metadata": {},
            "outputs": [
                {
                    "data": {
                        "text/plain": "Clear                       111135\nRaining                      33145\nOvercast                     27714\nUnknown                      15091\nSnowing                        907\nOther                          832\nFog/Smog/Smoke                 569\nSleet/Hail/Freezing Rain       113\nBlowing Sand/Dirt               56\nSevere Crosswind                25\nPartly Cloudy                    5\nName: WEATHER, dtype: int64"
                    },
                    "execution_count": 10,
                    "metadata": {},
                    "output_type": "execute_result"
                }
            ],
            "source": "df1['WEATHER'].value_counts()"
        },
        {
            "cell_type": "code",
            "execution_count": 12,
            "metadata": {},
            "outputs": [],
            "source": "df1['LOCATION'].value_counts()\ndf1.drop(\"LOCATION\", axis=1, inplace=True)"
        },
        {
            "cell_type": "code",
            "execution_count": 13,
            "metadata": {},
            "outputs": [
                {
                    "data": {
                        "text/html": "<div>\n<style scoped>\n    .dataframe tbody tr th:only-of-type {\n        vertical-align: middle;\n    }\n\n    .dataframe tbody tr th {\n        vertical-align: top;\n    }\n\n    .dataframe thead th {\n        text-align: right;\n    }\n</style>\n<table border=\"1\" class=\"dataframe\">\n  <thead>\n    <tr style=\"text-align: right;\">\n      <th></th>\n      <th>SEVERITYCODE</th>\n      <th>OBJECTID</th>\n      <th>SEVERITYCODE.1</th>\n      <th>WEATHER</th>\n      <th>ROADCOND</th>\n      <th>LIGHTCOND</th>\n    </tr>\n  </thead>\n  <tbody>\n    <tr>\n      <th>0</th>\n      <td>2</td>\n      <td>1</td>\n      <td>2</td>\n      <td>Overcast</td>\n      <td>Wet</td>\n      <td>Daylight</td>\n    </tr>\n    <tr>\n      <th>1</th>\n      <td>1</td>\n      <td>2</td>\n      <td>1</td>\n      <td>Raining</td>\n      <td>Wet</td>\n      <td>Dark - Street Lights On</td>\n    </tr>\n    <tr>\n      <th>2</th>\n      <td>1</td>\n      <td>3</td>\n      <td>1</td>\n      <td>Overcast</td>\n      <td>Dry</td>\n      <td>Daylight</td>\n    </tr>\n    <tr>\n      <th>3</th>\n      <td>1</td>\n      <td>4</td>\n      <td>1</td>\n      <td>Clear</td>\n      <td>Dry</td>\n      <td>Daylight</td>\n    </tr>\n    <tr>\n      <th>4</th>\n      <td>2</td>\n      <td>5</td>\n      <td>2</td>\n      <td>Raining</td>\n      <td>Wet</td>\n      <td>Daylight</td>\n    </tr>\n    <tr>\n      <th>5</th>\n      <td>1</td>\n      <td>6</td>\n      <td>1</td>\n      <td>Clear</td>\n      <td>Dry</td>\n      <td>Daylight</td>\n    </tr>\n    <tr>\n      <th>6</th>\n      <td>1</td>\n      <td>7</td>\n      <td>1</td>\n      <td>Raining</td>\n      <td>Wet</td>\n      <td>Daylight</td>\n    </tr>\n    <tr>\n      <th>7</th>\n      <td>2</td>\n      <td>9</td>\n      <td>2</td>\n      <td>Clear</td>\n      <td>Dry</td>\n      <td>Daylight</td>\n    </tr>\n    <tr>\n      <th>8</th>\n      <td>1</td>\n      <td>10</td>\n      <td>1</td>\n      <td>Clear</td>\n      <td>Dry</td>\n      <td>Daylight</td>\n    </tr>\n    <tr>\n      <th>9</th>\n      <td>2</td>\n      <td>12</td>\n      <td>2</td>\n      <td>Clear</td>\n      <td>Dry</td>\n      <td>Daylight</td>\n    </tr>\n    <tr>\n      <th>10</th>\n      <td>1</td>\n      <td>14</td>\n      <td>1</td>\n      <td>Overcast</td>\n      <td>Dry</td>\n      <td>Daylight</td>\n    </tr>\n    <tr>\n      <th>11</th>\n      <td>1</td>\n      <td>15</td>\n      <td>1</td>\n      <td>Clear</td>\n      <td>Dry</td>\n      <td>Daylight</td>\n    </tr>\n    <tr>\n      <th>12</th>\n      <td>1</td>\n      <td>16</td>\n      <td>1</td>\n      <td>Raining</td>\n      <td>Wet</td>\n      <td>Dark - Street Lights On</td>\n    </tr>\n    <tr>\n      <th>13</th>\n      <td>1</td>\n      <td>17</td>\n      <td>1</td>\n      <td>Raining</td>\n      <td>Wet</td>\n      <td>Dark - No Street Lights</td>\n    </tr>\n    <tr>\n      <th>14</th>\n      <td>2</td>\n      <td>19</td>\n      <td>2</td>\n      <td>Clear</td>\n      <td>Dry</td>\n      <td>Dark - Street Lights On</td>\n    </tr>\n    <tr>\n      <th>15</th>\n      <td>1</td>\n      <td>20</td>\n      <td>1</td>\n      <td>NaN</td>\n      <td>NaN</td>\n      <td>NaN</td>\n    </tr>\n    <tr>\n      <th>16</th>\n      <td>2</td>\n      <td>21</td>\n      <td>2</td>\n      <td>Overcast</td>\n      <td>Dry</td>\n      <td>Daylight</td>\n    </tr>\n    <tr>\n      <th>17</th>\n      <td>1</td>\n      <td>23</td>\n      <td>1</td>\n      <td>Overcast</td>\n      <td>Dry</td>\n      <td>Daylight</td>\n    </tr>\n    <tr>\n      <th>18</th>\n      <td>2</td>\n      <td>24</td>\n      <td>2</td>\n      <td>Clear</td>\n      <td>Dry</td>\n      <td>Daylight</td>\n    </tr>\n    <tr>\n      <th>19</th>\n      <td>1</td>\n      <td>25</td>\n      <td>1</td>\n      <td>Unknown</td>\n      <td>Dry</td>\n      <td>Unknown</td>\n    </tr>\n    <tr>\n      <th>20</th>\n      <td>2</td>\n      <td>26</td>\n      <td>2</td>\n      <td>Clear</td>\n      <td>Dry</td>\n      <td>Dark - Street Lights On</td>\n    </tr>\n    <tr>\n      <th>21</th>\n      <td>2</td>\n      <td>28</td>\n      <td>2</td>\n      <td>Clear</td>\n      <td>Dry</td>\n      <td>Daylight</td>\n    </tr>\n    <tr>\n      <th>22</th>\n      <td>1</td>\n      <td>29</td>\n      <td>1</td>\n      <td>Clear</td>\n      <td>Dry</td>\n      <td>Dark - Street Lights On</td>\n    </tr>\n    <tr>\n      <th>23</th>\n      <td>1</td>\n      <td>31</td>\n      <td>1</td>\n      <td>Unknown</td>\n      <td>Unknown</td>\n      <td>Unknown</td>\n    </tr>\n    <tr>\n      <th>24</th>\n      <td>2</td>\n      <td>33</td>\n      <td>2</td>\n      <td>Clear</td>\n      <td>Dry</td>\n      <td>Daylight</td>\n    </tr>\n    <tr>\n      <th>25</th>\n      <td>2</td>\n      <td>34</td>\n      <td>2</td>\n      <td>Clear</td>\n      <td>Dry</td>\n      <td>Daylight</td>\n    </tr>\n    <tr>\n      <th>26</th>\n      <td>1</td>\n      <td>35</td>\n      <td>1</td>\n      <td>Overcast</td>\n      <td>Wet</td>\n      <td>Unknown</td>\n    </tr>\n    <tr>\n      <th>27</th>\n      <td>1</td>\n      <td>36</td>\n      <td>1</td>\n      <td>Clear</td>\n      <td>Dry</td>\n      <td>Daylight</td>\n    </tr>\n    <tr>\n      <th>28</th>\n      <td>1</td>\n      <td>37</td>\n      <td>1</td>\n      <td>Clear</td>\n      <td>Dry</td>\n      <td>Daylight</td>\n    </tr>\n    <tr>\n      <th>29</th>\n      <td>1</td>\n      <td>38</td>\n      <td>1</td>\n      <td>Clear</td>\n      <td>Dry</td>\n      <td>Daylight</td>\n    </tr>\n    <tr>\n      <th>...</th>\n      <td>...</td>\n      <td>...</td>\n      <td>...</td>\n      <td>...</td>\n      <td>...</td>\n      <td>...</td>\n    </tr>\n    <tr>\n      <th>194643</th>\n      <td>1</td>\n      <td>219510</td>\n      <td>1</td>\n      <td>Clear</td>\n      <td>Dry</td>\n      <td>Dark - Street Lights On</td>\n    </tr>\n    <tr>\n      <th>194644</th>\n      <td>1</td>\n      <td>219511</td>\n      <td>1</td>\n      <td>Clear</td>\n      <td>Dry</td>\n      <td>Dusk</td>\n    </tr>\n    <tr>\n      <th>194645</th>\n      <td>2</td>\n      <td>219512</td>\n      <td>2</td>\n      <td>Clear</td>\n      <td>Dry</td>\n      <td>Dark - Street Lights On</td>\n    </tr>\n    <tr>\n      <th>194646</th>\n      <td>1</td>\n      <td>219513</td>\n      <td>1</td>\n      <td>NaN</td>\n      <td>NaN</td>\n      <td>NaN</td>\n    </tr>\n    <tr>\n      <th>194647</th>\n      <td>2</td>\n      <td>219514</td>\n      <td>2</td>\n      <td>Raining</td>\n      <td>Wet</td>\n      <td>Dusk</td>\n    </tr>\n    <tr>\n      <th>194648</th>\n      <td>1</td>\n      <td>219515</td>\n      <td>1</td>\n      <td>Raining</td>\n      <td>Wet</td>\n      <td>Dark - Street Lights On</td>\n    </tr>\n    <tr>\n      <th>194649</th>\n      <td>2</td>\n      <td>219516</td>\n      <td>2</td>\n      <td>Clear</td>\n      <td>Dry</td>\n      <td>Dark - Street Lights On</td>\n    </tr>\n    <tr>\n      <th>194650</th>\n      <td>2</td>\n      <td>219517</td>\n      <td>2</td>\n      <td>Clear</td>\n      <td>Dry</td>\n      <td>Daylight</td>\n    </tr>\n    <tr>\n      <th>194651</th>\n      <td>1</td>\n      <td>219519</td>\n      <td>1</td>\n      <td>Clear</td>\n      <td>Wet</td>\n      <td>Dark - Street Lights On</td>\n    </tr>\n    <tr>\n      <th>194652</th>\n      <td>1</td>\n      <td>219520</td>\n      <td>1</td>\n      <td>Overcast</td>\n      <td>Wet</td>\n      <td>Dusk</td>\n    </tr>\n    <tr>\n      <th>194653</th>\n      <td>2</td>\n      <td>219521</td>\n      <td>2</td>\n      <td>Overcast</td>\n      <td>Wet</td>\n      <td>Dark - Street Lights On</td>\n    </tr>\n    <tr>\n      <th>194654</th>\n      <td>1</td>\n      <td>219522</td>\n      <td>1</td>\n      <td>NaN</td>\n      <td>NaN</td>\n      <td>NaN</td>\n    </tr>\n    <tr>\n      <th>194655</th>\n      <td>2</td>\n      <td>219523</td>\n      <td>2</td>\n      <td>NaN</td>\n      <td>NaN</td>\n      <td>NaN</td>\n    </tr>\n    <tr>\n      <th>194656</th>\n      <td>2</td>\n      <td>219524</td>\n      <td>2</td>\n      <td>Clear</td>\n      <td>Dry</td>\n      <td>Daylight</td>\n    </tr>\n    <tr>\n      <th>194657</th>\n      <td>1</td>\n      <td>219525</td>\n      <td>1</td>\n      <td>Raining</td>\n      <td>Wet</td>\n      <td>Dark - Street Lights On</td>\n    </tr>\n    <tr>\n      <th>194658</th>\n      <td>1</td>\n      <td>219528</td>\n      <td>1</td>\n      <td>Raining</td>\n      <td>Wet</td>\n      <td>Dark - Street Lights On</td>\n    </tr>\n    <tr>\n      <th>194659</th>\n      <td>1</td>\n      <td>219529</td>\n      <td>1</td>\n      <td>Raining</td>\n      <td>Wet</td>\n      <td>Dark - Street Lights On</td>\n    </tr>\n    <tr>\n      <th>194660</th>\n      <td>2</td>\n      <td>219531</td>\n      <td>2</td>\n      <td>Raining</td>\n      <td>Wet</td>\n      <td>Other</td>\n    </tr>\n    <tr>\n      <th>194661</th>\n      <td>2</td>\n      <td>219532</td>\n      <td>2</td>\n      <td>Clear</td>\n      <td>Dry</td>\n      <td>Daylight</td>\n    </tr>\n    <tr>\n      <th>194662</th>\n      <td>1</td>\n      <td>219535</td>\n      <td>1</td>\n      <td>Clear</td>\n      <td>Dry</td>\n      <td>Dusk</td>\n    </tr>\n    <tr>\n      <th>194663</th>\n      <td>2</td>\n      <td>219536</td>\n      <td>2</td>\n      <td>Raining</td>\n      <td>Wet</td>\n      <td>Daylight</td>\n    </tr>\n    <tr>\n      <th>194664</th>\n      <td>1</td>\n      <td>219537</td>\n      <td>1</td>\n      <td>Clear</td>\n      <td>Dry</td>\n      <td>Daylight</td>\n    </tr>\n    <tr>\n      <th>194665</th>\n      <td>1</td>\n      <td>219538</td>\n      <td>1</td>\n      <td>Clear</td>\n      <td>Dry</td>\n      <td>Daylight</td>\n    </tr>\n    <tr>\n      <th>194666</th>\n      <td>2</td>\n      <td>219539</td>\n      <td>2</td>\n      <td>Clear</td>\n      <td>Wet</td>\n      <td>Daylight</td>\n    </tr>\n    <tr>\n      <th>194667</th>\n      <td>1</td>\n      <td>219541</td>\n      <td>1</td>\n      <td>Raining</td>\n      <td>Wet</td>\n      <td>Dark - Street Lights On</td>\n    </tr>\n    <tr>\n      <th>194668</th>\n      <td>2</td>\n      <td>219543</td>\n      <td>2</td>\n      <td>Clear</td>\n      <td>Dry</td>\n      <td>Daylight</td>\n    </tr>\n    <tr>\n      <th>194669</th>\n      <td>1</td>\n      <td>219544</td>\n      <td>1</td>\n      <td>Raining</td>\n      <td>Wet</td>\n      <td>Daylight</td>\n    </tr>\n    <tr>\n      <th>194670</th>\n      <td>2</td>\n      <td>219545</td>\n      <td>2</td>\n      <td>Clear</td>\n      <td>Dry</td>\n      <td>Daylight</td>\n    </tr>\n    <tr>\n      <th>194671</th>\n      <td>2</td>\n      <td>219546</td>\n      <td>2</td>\n      <td>Clear</td>\n      <td>Dry</td>\n      <td>Dusk</td>\n    </tr>\n    <tr>\n      <th>194672</th>\n      <td>1</td>\n      <td>219547</td>\n      <td>1</td>\n      <td>Clear</td>\n      <td>Wet</td>\n      <td>Daylight</td>\n    </tr>\n  </tbody>\n</table>\n<p>194673 rows \u00d7 6 columns</p>\n</div>",
                        "text/plain": "        SEVERITYCODE  OBJECTID  SEVERITYCODE.1   WEATHER ROADCOND  \\\n0                  2         1               2  Overcast      Wet   \n1                  1         2               1   Raining      Wet   \n2                  1         3               1  Overcast      Dry   \n3                  1         4               1     Clear      Dry   \n4                  2         5               2   Raining      Wet   \n5                  1         6               1     Clear      Dry   \n6                  1         7               1   Raining      Wet   \n7                  2         9               2     Clear      Dry   \n8                  1        10               1     Clear      Dry   \n9                  2        12               2     Clear      Dry   \n10                 1        14               1  Overcast      Dry   \n11                 1        15               1     Clear      Dry   \n12                 1        16               1   Raining      Wet   \n13                 1        17               1   Raining      Wet   \n14                 2        19               2     Clear      Dry   \n15                 1        20               1       NaN      NaN   \n16                 2        21               2  Overcast      Dry   \n17                 1        23               1  Overcast      Dry   \n18                 2        24               2     Clear      Dry   \n19                 1        25               1   Unknown      Dry   \n20                 2        26               2     Clear      Dry   \n21                 2        28               2     Clear      Dry   \n22                 1        29               1     Clear      Dry   \n23                 1        31               1   Unknown  Unknown   \n24                 2        33               2     Clear      Dry   \n25                 2        34               2     Clear      Dry   \n26                 1        35               1  Overcast      Wet   \n27                 1        36               1     Clear      Dry   \n28                 1        37               1     Clear      Dry   \n29                 1        38               1     Clear      Dry   \n...              ...       ...             ...       ...      ...   \n194643             1    219510               1     Clear      Dry   \n194644             1    219511               1     Clear      Dry   \n194645             2    219512               2     Clear      Dry   \n194646             1    219513               1       NaN      NaN   \n194647             2    219514               2   Raining      Wet   \n194648             1    219515               1   Raining      Wet   \n194649             2    219516               2     Clear      Dry   \n194650             2    219517               2     Clear      Dry   \n194651             1    219519               1     Clear      Wet   \n194652             1    219520               1  Overcast      Wet   \n194653             2    219521               2  Overcast      Wet   \n194654             1    219522               1       NaN      NaN   \n194655             2    219523               2       NaN      NaN   \n194656             2    219524               2     Clear      Dry   \n194657             1    219525               1   Raining      Wet   \n194658             1    219528               1   Raining      Wet   \n194659             1    219529               1   Raining      Wet   \n194660             2    219531               2   Raining      Wet   \n194661             2    219532               2     Clear      Dry   \n194662             1    219535               1     Clear      Dry   \n194663             2    219536               2   Raining      Wet   \n194664             1    219537               1     Clear      Dry   \n194665             1    219538               1     Clear      Dry   \n194666             2    219539               2     Clear      Wet   \n194667             1    219541               1   Raining      Wet   \n194668             2    219543               2     Clear      Dry   \n194669             1    219544               1   Raining      Wet   \n194670             2    219545               2     Clear      Dry   \n194671             2    219546               2     Clear      Dry   \n194672             1    219547               1     Clear      Wet   \n\n                      LIGHTCOND  \n0                      Daylight  \n1       Dark - Street Lights On  \n2                      Daylight  \n3                      Daylight  \n4                      Daylight  \n5                      Daylight  \n6                      Daylight  \n7                      Daylight  \n8                      Daylight  \n9                      Daylight  \n10                     Daylight  \n11                     Daylight  \n12      Dark - Street Lights On  \n13      Dark - No Street Lights  \n14      Dark - Street Lights On  \n15                          NaN  \n16                     Daylight  \n17                     Daylight  \n18                     Daylight  \n19                      Unknown  \n20      Dark - Street Lights On  \n21                     Daylight  \n22      Dark - Street Lights On  \n23                      Unknown  \n24                     Daylight  \n25                     Daylight  \n26                      Unknown  \n27                     Daylight  \n28                     Daylight  \n29                     Daylight  \n...                         ...  \n194643  Dark - Street Lights On  \n194644                     Dusk  \n194645  Dark - Street Lights On  \n194646                      NaN  \n194647                     Dusk  \n194648  Dark - Street Lights On  \n194649  Dark - Street Lights On  \n194650                 Daylight  \n194651  Dark - Street Lights On  \n194652                     Dusk  \n194653  Dark - Street Lights On  \n194654                      NaN  \n194655                      NaN  \n194656                 Daylight  \n194657  Dark - Street Lights On  \n194658  Dark - Street Lights On  \n194659  Dark - Street Lights On  \n194660                    Other  \n194661                 Daylight  \n194662                     Dusk  \n194663                 Daylight  \n194664                 Daylight  \n194665                 Daylight  \n194666                 Daylight  \n194667  Dark - Street Lights On  \n194668                 Daylight  \n194669                 Daylight  \n194670                 Daylight  \n194671                     Dusk  \n194672                 Daylight  \n\n[194673 rows x 6 columns]"
                    },
                    "execution_count": 13,
                    "metadata": {},
                    "output_type": "execute_result"
                }
            ],
            "source": "df1"
        },
        {
            "cell_type": "code",
            "execution_count": null,
            "metadata": {},
            "outputs": [],
            "source": ""
        }
    ],
    "metadata": {
        "kernelspec": {
            "display_name": "Python 3.6",
            "language": "python",
            "name": "python3"
        },
        "language_info": {
            "codemirror_mode": {
                "name": "ipython",
                "version": 3
            },
            "file_extension": ".py",
            "mimetype": "text/x-python",
            "name": "python",
            "nbconvert_exporter": "python",
            "pygments_lexer": "ipython3",
            "version": "3.6.9"
        }
    },
    "nbformat": 4,
    "nbformat_minor": 1
}